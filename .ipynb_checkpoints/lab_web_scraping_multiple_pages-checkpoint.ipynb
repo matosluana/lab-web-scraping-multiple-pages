{
 "cells": [
  {
   "cell_type": "markdown",
   "id": "f2307a60",
   "metadata": {},
   "source": [
    "## Lab | Web Scraping Single Page\n",
    "\n",
    "### Instructions - Scraping popular songs\n",
    "Your product will take a song as an input from the user and will output another song (the recommendation). In most cases, the recommended song will have to be similar to the inputted song, but the CTO thinks that if the song is on the top charts at the moment, the user will enjoy more a recommendation of a song that's also popular at the moment.\n",
    "\n",
    "You have find data on the internet about currently popular songs. Billboard maintains a weekly Top 100 of \"hot\" songs here: https://www.billboard.com/charts/hot-100.\n",
    "\n",
    "It's a good place to start! Scrape the current top 100 songs and their respective artists, and put the information into a pandas dataframe."
   ]
  },
  {
   "cell_type": "markdown",
   "id": "ec44e4ce",
   "metadata": {},
   "source": [
    "### Hot Songs (Top 100 this week)"
   ]
  },
  {
   "cell_type": "code",
   "execution_count": 1,
   "id": "18fb5b07",
   "metadata": {},
   "outputs": [],
   "source": [
    "from bs4 import BeautifulSoup\n",
    "import requests\n",
    "import pandas as pd\n",
    "from time import sleep\n",
    "import random\n",
    "from time import sleep\n",
    "from random import randint"
   ]
  },
  {
   "cell_type": "code",
   "execution_count": 2,
   "id": "07d2b2d1",
   "metadata": {},
   "outputs": [],
   "source": [
    "url = 'https://www.popvortex.com/music/charts/top-100-songs.php'"
   ]
  },
  {
   "cell_type": "code",
   "execution_count": 3,
   "id": "70d6946d",
   "metadata": {},
   "outputs": [
    {
     "data": {
      "text/plain": [
       "200"
      ]
     },
     "execution_count": 3,
     "metadata": {},
     "output_type": "execute_result"
    }
   ],
   "source": [
    "response = requests.get(url)\n",
    "response.status_code # 200 status code means OK!"
   ]
  },
  {
   "cell_type": "code",
   "execution_count": 4,
   "id": "93193bef",
   "metadata": {},
   "outputs": [],
   "source": [
    "soup = BeautifulSoup(response.content, \"html.parser\")"
   ]
  },
  {
   "cell_type": "code",
   "execution_count": 54,
   "id": "f15c8963",
   "metadata": {},
   "outputs": [],
   "source": [
    "# soup"
   ]
  },
  {
   "cell_type": "code",
   "execution_count": 6,
   "id": "9cf4c69b",
   "metadata": {},
   "outputs": [
    {
     "name": "stdout",
     "output_type": "stream",
     "text": [
      "['Unholy', 'Eagle (feat. KB)', \"I'm Good (Blue)\", 'wait in the truck', 'Everywhere', 'Thank God', 'Make It With You', 'A Thousand Years', 'Son Of A Sinner', 'You Proof', \"I Ain't Worried\", 'the mockingbird & THE CROW', 'CUFF IT', 'Unstoppable', 'Left and Right', 'TRUCK BED', 'She Had Me At Heads Carolina', 'here lies country music', 'Wasted On You', 'The Kind of Love We Make', 'Fall In Love', 'Lose Yourself', 'Starved', 'Shallow', 'Under the Influence', 'As It Was', 'Super Freaky Girl', '1,2,3 Eoi!', 'Life Is a Highway', 'Celestial', 'Love Me Like You Do', 'About Damn Time', 'Hold Me Closer', 'Earned It', 'Shivers', 'Sunroof', 'Victoria’s Secret', 'Everything I Own', '2 Be Loved (Am I Ready)', \"Baby I'm-A Want You\", 'Numb', 'Next Thing You Know', 'Way of the Triune God (Hallelujah Version)', 'High Heels', \"You'll Be In My Heart\", \"Gangsta's Paradise (feat. L.V.)\", 'I Like You (A Happier Song) [feat. Doja Cat]', 'Rock and a Hard Place', 'Tennessee Orange', 'Neon You', 'Vegas (From the Original Motion Picture Soundtrack ELVIS)', \"Something in the Orange (Z&E's Version)\", 'Cold Heart (PNAU Remix)', 'It Will Rain', 'Monster Mash', 'Bones', 'Running Up That Hill (A Deal with God)', 'Bad Habit', 'What My World Spins Around', 'Soul', 'Forever', \"STAR WALKIN' (League of Legends Worlds Anthem)\", 'If', 'This Is Halloween', 'How Do I Say Goodbye', 'Always Remember Us This Way', 'Never Leave', 'Forget Me', 'Something in the Orange', 'Somewhere Over the Rainbow', 'No Body', 'Don’t Come Lookin’', 'You, Me, And Whiskey', 'Tennessee Whiskey', 'Havana (feat. Young Thug)', 'Love Me Like I Am', 'down home', 'Hold My Hand', \"'Til You Can't\", 'Joy of My Life', 'CUFF IT', 'Late Night Talking', 'Tití Me Preguntó', 'Perfectly Loved (feat. TobyMac)', '5 Foot 9', 'ILLELLA', 'Build a Boat', 'Take Me Home, Country Roads', \"World's Smallest Violin\", 'Sand In My Boots', \"I'm Good (Blue)\", 'Fancy Like', \"How Far I'll Go\", 'She Likes It (feat. Jake Scott)', 'One Way or Another (Hocus Pocus 2 Version)', 'Havana (Live)', 'Lady Marmalade', 'Narco', 'Half Of Me (feat. Riley Green)', 'Bedroom Singer']\n",
      "['Sam Smith & Kim Petras', 'Transformation Worship', 'David Guetta & Bebe Rexha', 'HARDY & Lainey Wilson', 'Fleetwood Mac', 'Kane Brown & Katelyn Brown', 'Bread', 'Christina Perri', 'Jelly Roll', 'Morgan Wallen', 'OneRepublic', 'HARDY', 'Beyoncé', 'Sia', 'Charlie Puth & Jung Kook', 'HARDY', 'Cole Swindell', 'HARDY', 'Morgan Wallen', 'Luke Combs', 'Bailey Zimmerman', 'Eminem', 'Zach Bryan', 'Lady Gaga & Bradley Cooper', 'Chris Brown', 'Harry Styles', 'Nicki Minaj', 'MAMAMOO', 'Rascal Flatts', 'Ed Sheeran', 'Ellie Goulding', 'Lizzo', 'Elton John & Britney Spears', 'The Weeknd', 'Ed Sheeran', 'Nicky Youre & Dazy', 'Jax', 'Bread', 'Lizzo', 'Bread', 'Marshmello & Khalid', 'Jordan Davis', 'Tyler Childers', 'Flo Rida & Walker Hayes', 'Phil Collins', 'Coolio', 'Post Malone', 'Bailey Zimmerman', 'Megan Moroney', 'Don Louis', 'Doja Cat', 'Zach Bryan', 'Elton John & Dua Lipa', 'Bruno Mars', 'Bobby \"Boris\" Pickett & The Crypt-Kickers', 'Imagine Dragons', 'Kate Bush', 'Steve Lacy', 'Jordan Davis', 'Lee Brice', 'Drake, Kanye West, Lil Wayne & Eminem', 'Lil Nas X', 'Bread', 'The Citizens of Halloween', 'Dean Lewis', 'Lady Gaga', 'Bailey Zimmerman', 'Lewis Capaldi', 'Zach Bryan', \"Israel Kamakawiwo'ole\", 'Blake Shelton', 'Jackson Dean', 'Justin Moore & Priscilla Block', 'Chris Stapleton', 'Camila Cabello', 'for KING & COUNTRY & Jordin Sparks', 'Jimmie Allen', 'Lady Gaga', 'Cody Johnson', 'Chris Stapleton', 'Beyoncé', 'Harry Styles', 'Bad Bunny', 'Rachael Lampa', 'Tyler Hubbard', 'MAMAMOO', 'Colton Dixon', 'John Denver', 'AJR', 'Morgan Wallen', 'David Guetta & Bebe Rexha', 'Walker Hayes', \"Auli'i Cravalho\", 'Russell Dickerson & Jake Scott', 'Bette Midler, Sarah Jessica Parker & Kathy Najimy', 'Camila Cabello', \"Christina Aguilera, Lil' Kim, Mýa & P!nk\", 'Blasterjaxx & Timmy Trumpet', 'Thomas Rhett', 'J.Fla']\n"
     ]
    }
   ],
   "source": [
    "# extracting lists\n",
    "song = []\n",
    "artist = []\n",
    "\n",
    "num_iter = len(soup.select(\"p > cite\"))\n",
    "\n",
    "song_list = soup.select(\"p > cite\")\n",
    "artist_list = soup.select(\"p > em \")\n",
    "\n",
    "\n",
    "# iterate through the result set and retrive all the data\n",
    "for i in range(num_iter):\n",
    "    song.append(song_list[i].get_text())\n",
    "    artist.append(artist_list[i].get_text())\n",
    "\n",
    "print(song)\n",
    "print(artist)"
   ]
  },
  {
   "cell_type": "code",
   "execution_count": 7,
   "id": "2bda34c6",
   "metadata": {},
   "outputs": [
    {
     "data": {
      "text/html": [
       "<div>\n",
       "<style scoped>\n",
       "    .dataframe tbody tr th:only-of-type {\n",
       "        vertical-align: middle;\n",
       "    }\n",
       "\n",
       "    .dataframe tbody tr th {\n",
       "        vertical-align: top;\n",
       "    }\n",
       "\n",
       "    .dataframe thead th {\n",
       "        text-align: right;\n",
       "    }\n",
       "</style>\n",
       "<table border=\"1\" class=\"dataframe\">\n",
       "  <thead>\n",
       "    <tr style=\"text-align: right;\">\n",
       "      <th></th>\n",
       "      <th>song</th>\n",
       "      <th>artist</th>\n",
       "    </tr>\n",
       "  </thead>\n",
       "  <tbody>\n",
       "    <tr>\n",
       "      <th>0</th>\n",
       "      <td>Unholy</td>\n",
       "      <td>Sam Smith &amp; Kim Petras</td>\n",
       "    </tr>\n",
       "    <tr>\n",
       "      <th>1</th>\n",
       "      <td>Eagle (feat. KB)</td>\n",
       "      <td>Transformation Worship</td>\n",
       "    </tr>\n",
       "    <tr>\n",
       "      <th>2</th>\n",
       "      <td>I'm Good (Blue)</td>\n",
       "      <td>David Guetta &amp; Bebe Rexha</td>\n",
       "    </tr>\n",
       "    <tr>\n",
       "      <th>3</th>\n",
       "      <td>wait in the truck</td>\n",
       "      <td>HARDY &amp; Lainey Wilson</td>\n",
       "    </tr>\n",
       "    <tr>\n",
       "      <th>4</th>\n",
       "      <td>Everywhere</td>\n",
       "      <td>Fleetwood Mac</td>\n",
       "    </tr>\n",
       "    <tr>\n",
       "      <th>...</th>\n",
       "      <td>...</td>\n",
       "      <td>...</td>\n",
       "    </tr>\n",
       "    <tr>\n",
       "      <th>95</th>\n",
       "      <td>Havana (Live)</td>\n",
       "      <td>Camila Cabello</td>\n",
       "    </tr>\n",
       "    <tr>\n",
       "      <th>96</th>\n",
       "      <td>Lady Marmalade</td>\n",
       "      <td>Christina Aguilera, Lil' Kim, Mýa &amp; P!nk</td>\n",
       "    </tr>\n",
       "    <tr>\n",
       "      <th>97</th>\n",
       "      <td>Narco</td>\n",
       "      <td>Blasterjaxx &amp; Timmy Trumpet</td>\n",
       "    </tr>\n",
       "    <tr>\n",
       "      <th>98</th>\n",
       "      <td>Half Of Me (feat. Riley Green)</td>\n",
       "      <td>Thomas Rhett</td>\n",
       "    </tr>\n",
       "    <tr>\n",
       "      <th>99</th>\n",
       "      <td>Bedroom Singer</td>\n",
       "      <td>J.Fla</td>\n",
       "    </tr>\n",
       "  </tbody>\n",
       "</table>\n",
       "<p>100 rows × 2 columns</p>\n",
       "</div>"
      ],
      "text/plain": [
       "                              song                                    artist\n",
       "0                           Unholy                    Sam Smith & Kim Petras\n",
       "1                 Eagle (feat. KB)                    Transformation Worship\n",
       "2                  I'm Good (Blue)                 David Guetta & Bebe Rexha\n",
       "3                wait in the truck                     HARDY & Lainey Wilson\n",
       "4                       Everywhere                             Fleetwood Mac\n",
       "..                             ...                                       ...\n",
       "95                   Havana (Live)                            Camila Cabello\n",
       "96                  Lady Marmalade  Christina Aguilera, Lil' Kim, Mýa & P!nk\n",
       "97                           Narco               Blasterjaxx & Timmy Trumpet\n",
       "98  Half Of Me (feat. Riley Green)                              Thomas Rhett\n",
       "99                  Bedroom Singer                                     J.Fla\n",
       "\n",
       "[100 rows x 2 columns]"
      ]
     },
     "execution_count": 7,
     "metadata": {},
     "output_type": "execute_result"
    }
   ],
   "source": [
    "#creating dataframe\n",
    "\n",
    "hot_songs = pd.DataFrame({\"song\":song,\n",
    "                       \"artist\":artist\n",
    "                      })\n",
    "hot_songs"
   ]
  },
  {
   "cell_type": "markdown",
   "id": "976bb6b4",
   "metadata": {},
   "source": [
    "## Lab | Web Scraping Multiple Pages\n",
    "\n",
    "### Instructions - Scraping popular songs\n",
    "\n",
    "Prioritize the MVP\n",
    "In the previous lab, you had to scrape data about \"hot songs\". It's critical to be on track with that part, as it was part of the request from the CTO.\n",
    "\n",
    "If you couldn't finish the first lab, use this time to go back there.\n",
    "\n",
    "Expand the project\n",
    "If you're done, you can try to expand the project on your own. Here are a few suggestions:\n",
    "\n",
    "Find other lists of hot songs on the internet and scrape them too: having a bigger pool of songs will be awesome!\n",
    "Apply the same logic to other \"groups\" of songs: the best songs from a decade or from a country / culture / language / genre.\n",
    "Wikipedia maintains a large collection of lists of songs: https://en.wikipedia.org/wiki/Lists_of_songs"
   ]
  },
  {
   "cell_type": "markdown",
   "id": "0f74ce64",
   "metadata": {},
   "source": [
    "### Top hits by year"
   ]
  },
  {
   "cell_type": "code",
   "execution_count": 8,
   "id": "d54209f0",
   "metadata": {},
   "outputs": [],
   "source": [
    "# I wanna do the same thing for several years, so I will create a function\n",
    "\n",
    "def url_text(year):\n",
    "    url = str(\"https://playback.fm/charts/top-100-songs/\"+str(year))\n",
    "    return url\n",
    "\n",
    "url2 = url_text(2021)"
   ]
  },
  {
   "cell_type": "code",
   "execution_count": 53,
   "id": "3652d64f",
   "metadata": {},
   "outputs": [],
   "source": [
    "response2 = requests.get(url2)\n",
    "response2.status_code # 200 status code means OK!\n",
    "\n",
    "soup2 = BeautifulSoup(response2.content, \"html.parser\")\n",
    "# soup2"
   ]
  },
  {
   "cell_type": "code",
   "execution_count": 10,
   "id": "406e50cb",
   "metadata": {},
   "outputs": [
    {
     "name": "stdout",
     "output_type": "stream",
     "text": [
      "\n",
      "\n",
      "Levitating\n",
      "\n",
      "\n",
      "Levitating\n",
      "\n",
      "\n",
      "Thot Shit\n",
      "\n",
      "\n",
      "Thot Shit\n"
     ]
    }
   ],
   "source": [
    "print(soup2.select('.song')[0].get_text())\n",
    "print(soup2.select('.song')[1].get_text())\n",
    "print(soup2.select('.song')[198].get_text())\n",
    "print(soup2.select('.song')[199].get_text())\n",
    "# each song is coming up twice, so I will have to pay attention to the indexes"
   ]
  },
  {
   "cell_type": "code",
   "execution_count": 11,
   "id": "b5e0771f",
   "metadata": {},
   "outputs": [
    {
     "data": {
      "text/plain": [
       "'\\nMegan Thee Stallion\\n'"
      ]
     },
     "execution_count": 11,
     "metadata": {},
     "output_type": "execute_result"
    }
   ],
   "source": [
    "soup2.select('.artist')[0].get_text()\n",
    "soup2.select('.artist')[99].get_text() #this will need cleaning"
   ]
  },
  {
   "cell_type": "code",
   "execution_count": 12,
   "id": "e671638a",
   "metadata": {},
   "outputs": [],
   "source": [
    "#Now that I know how to find the data and what the outcome is, I can create a function\n",
    "\n",
    "def pop_songs_by_year(year):\n",
    "    try:    \n",
    "        url = str(\"https://playback.fm/charts/top-100-songs/\"+str(year))\n",
    "        response = requests.get(url)\n",
    "        soup = BeautifulSoup(response.content, \"html.parser\")\n",
    "\n",
    "        songs_list = soup.select('.song')\n",
    "        artists_list = soup.select('.artist')\n",
    "\n",
    "        song = []\n",
    "        artist = []\n",
    "\n",
    "        for i in range (len(songs_list)):\n",
    "            if i%2 !=0:\n",
    "                song.append(songs_list[i].get_text())\n",
    "            else:\n",
    "                pass\n",
    "\n",
    "        for i in range (len(artists_list)):\n",
    "            artist.append(artists_list[i].get_text())\n",
    "            artist[i]=artist[i].replace('\\n','')\n",
    "\n",
    "        top_songs = pd.DataFrame({\"song\":song,\n",
    "                                  \"artist\":artist})\n",
    "\n",
    "        top_songs['year'] = str(year)\n",
    "\n",
    "        wait_time = randint(1,4)\n",
    "        sleep(wait_time)\n",
    "    \n",
    "    except Exception:\n",
    "        pass\n",
    "    \n",
    "    return top_songs"
   ]
  },
  {
   "cell_type": "markdown",
   "id": "db220069",
   "metadata": {},
   "source": [
    "### !!! Careful with next cell! Long running time!!! "
   ]
  },
  {
   "cell_type": "code",
   "execution_count": 15,
   "id": "b904669c",
   "metadata": {},
   "outputs": [],
   "source": [
    "# # Scraping the 100 most popular songs for the last 50 years.\n",
    "\n",
    "# songs_df = pop_songs_by_year(2021)\n",
    "\n",
    "# list_of_years = []\n",
    "# for year in range (50):\n",
    "#     list_of_years.append(2020-year)\n",
    "\n",
    "# for index in range(len(list_of_years)):\n",
    "#     songs_df = pd.concat([songs_df, pop_songs_by_year(list_of_years[index])])"
   ]
  },
  {
   "cell_type": "code",
   "execution_count": 21,
   "id": "eff3484b",
   "metadata": {},
   "outputs": [
    {
     "data": {
      "text/html": [
       "<div>\n",
       "<style scoped>\n",
       "    .dataframe tbody tr th:only-of-type {\n",
       "        vertical-align: middle;\n",
       "    }\n",
       "\n",
       "    .dataframe tbody tr th {\n",
       "        vertical-align: top;\n",
       "    }\n",
       "\n",
       "    .dataframe thead th {\n",
       "        text-align: right;\n",
       "    }\n",
       "</style>\n",
       "<table border=\"1\" class=\"dataframe\">\n",
       "  <thead>\n",
       "    <tr style=\"text-align: right;\">\n",
       "      <th></th>\n",
       "      <th>song</th>\n",
       "      <th>artist</th>\n",
       "      <th>year</th>\n",
       "    </tr>\n",
       "  </thead>\n",
       "  <tbody>\n",
       "    <tr>\n",
       "      <th>0</th>\n",
       "      <td>Levitating</td>\n",
       "      <td>Dua Lipa &amp; DaBaby</td>\n",
       "      <td>2021</td>\n",
       "    </tr>\n",
       "    <tr>\n",
       "      <th>1</th>\n",
       "      <td>Drivers License</td>\n",
       "      <td>Olivia Rodrigo</td>\n",
       "      <td>2021</td>\n",
       "    </tr>\n",
       "    <tr>\n",
       "      <th>2</th>\n",
       "      <td>Save Your Tears</td>\n",
       "      <td>The Weeknd &amp; Ariana Grande</td>\n",
       "      <td>2021</td>\n",
       "    </tr>\n",
       "    <tr>\n",
       "      <th>3</th>\n",
       "      <td>Montero (Call Me by Your Name)</td>\n",
       "      <td>Lil Nas X</td>\n",
       "      <td>2021</td>\n",
       "    </tr>\n",
       "    <tr>\n",
       "      <th>4</th>\n",
       "      <td>Blinding Lights</td>\n",
       "      <td>The Weeknd</td>\n",
       "      <td>2021</td>\n",
       "    </tr>\n",
       "    <tr>\n",
       "      <th>...</th>\n",
       "      <td>...</td>\n",
       "      <td>...</td>\n",
       "      <td>...</td>\n",
       "    </tr>\n",
       "    <tr>\n",
       "      <th>95</th>\n",
       "      <td>He's Gonna Step On You Again</td>\n",
       "      <td>John Kongos</td>\n",
       "      <td>1971</td>\n",
       "    </tr>\n",
       "    <tr>\n",
       "      <th>96</th>\n",
       "      <td>Wild World</td>\n",
       "      <td>Cat Stevens</td>\n",
       "      <td>1971</td>\n",
       "    </tr>\n",
       "    <tr>\n",
       "      <th>97</th>\n",
       "      <td>Love Her Madly</td>\n",
       "      <td>The Doors</td>\n",
       "      <td>1971</td>\n",
       "    </tr>\n",
       "    <tr>\n",
       "      <th>98</th>\n",
       "      <td>Amazing Grace</td>\n",
       "      <td>Judy Collins</td>\n",
       "      <td>1971</td>\n",
       "    </tr>\n",
       "    <tr>\n",
       "      <th>99</th>\n",
       "      <td>Peace Train</td>\n",
       "      <td>Cat Stevens</td>\n",
       "      <td>1971</td>\n",
       "    </tr>\n",
       "  </tbody>\n",
       "</table>\n",
       "<p>5097 rows × 3 columns</p>\n",
       "</div>"
      ],
      "text/plain": [
       "                              song                      artist  year\n",
       "0                       Levitating           Dua Lipa & DaBaby  2021\n",
       "1                  Drivers License              Olivia Rodrigo  2021\n",
       "2                  Save Your Tears  The Weeknd & Ariana Grande  2021\n",
       "3   Montero (Call Me by Your Name)                   Lil Nas X  2021\n",
       "4                  Blinding Lights                  The Weeknd  2021\n",
       "..                             ...                         ...   ...\n",
       "95    He's Gonna Step On You Again                 John Kongos  1971\n",
       "96                      Wild World                 Cat Stevens  1971\n",
       "97                  Love Her Madly                   The Doors  1971\n",
       "98                   Amazing Grace                Judy Collins  1971\n",
       "99                     Peace Train                 Cat Stevens  1971\n",
       "\n",
       "[5097 rows x 3 columns]"
      ]
     },
     "execution_count": 21,
     "metadata": {},
     "output_type": "execute_result"
    }
   ],
   "source": [
    "songs_df"
   ]
  },
  {
   "cell_type": "code",
   "execution_count": 51,
   "id": "d72c4c1d",
   "metadata": {},
   "outputs": [],
   "source": [
    "#exporting csv so that I dont have to run it again every time I restart the notebook\n",
    "songs_df.to_csv(r'C:\\Users\\luana\\IH-Labs\\lab-web-scraping-multiple-pages\\songs_df.csv', index = False, header=True)"
   ]
  },
  {
   "cell_type": "markdown",
   "id": "bf043514",
   "metadata": {},
   "source": [
    "### Merging hot songs this week with top songs by year"
   ]
  },
  {
   "cell_type": "code",
   "execution_count": 24,
   "id": "5a81132f",
   "metadata": {},
   "outputs": [
    {
     "data": {
      "text/html": [
       "<div>\n",
       "<style scoped>\n",
       "    .dataframe tbody tr th:only-of-type {\n",
       "        vertical-align: middle;\n",
       "    }\n",
       "\n",
       "    .dataframe tbody tr th {\n",
       "        vertical-align: top;\n",
       "    }\n",
       "\n",
       "    .dataframe thead th {\n",
       "        text-align: right;\n",
       "    }\n",
       "</style>\n",
       "<table border=\"1\" class=\"dataframe\">\n",
       "  <thead>\n",
       "    <tr style=\"text-align: right;\">\n",
       "      <th></th>\n",
       "      <th>song</th>\n",
       "      <th>artist</th>\n",
       "      <th>year</th>\n",
       "    </tr>\n",
       "  </thead>\n",
       "  <tbody>\n",
       "    <tr>\n",
       "      <th>0</th>\n",
       "      <td>Unholy</td>\n",
       "      <td>Sam Smith &amp; Kim Petras</td>\n",
       "      <td>2022</td>\n",
       "    </tr>\n",
       "    <tr>\n",
       "      <th>1</th>\n",
       "      <td>Eagle (feat. KB)</td>\n",
       "      <td>Transformation Worship</td>\n",
       "      <td>2022</td>\n",
       "    </tr>\n",
       "    <tr>\n",
       "      <th>2</th>\n",
       "      <td>I'm Good (Blue)</td>\n",
       "      <td>David Guetta &amp; Bebe Rexha</td>\n",
       "      <td>2022</td>\n",
       "    </tr>\n",
       "    <tr>\n",
       "      <th>3</th>\n",
       "      <td>wait in the truck</td>\n",
       "      <td>HARDY &amp; Lainey Wilson</td>\n",
       "      <td>2022</td>\n",
       "    </tr>\n",
       "    <tr>\n",
       "      <th>4</th>\n",
       "      <td>Everywhere</td>\n",
       "      <td>Fleetwood Mac</td>\n",
       "      <td>2022</td>\n",
       "    </tr>\n",
       "    <tr>\n",
       "      <th>...</th>\n",
       "      <td>...</td>\n",
       "      <td>...</td>\n",
       "      <td>...</td>\n",
       "    </tr>\n",
       "    <tr>\n",
       "      <th>95</th>\n",
       "      <td>Havana (Live)</td>\n",
       "      <td>Camila Cabello</td>\n",
       "      <td>2022</td>\n",
       "    </tr>\n",
       "    <tr>\n",
       "      <th>96</th>\n",
       "      <td>Lady Marmalade</td>\n",
       "      <td>Christina Aguilera, Lil' Kim, Mýa &amp; P!nk</td>\n",
       "      <td>2022</td>\n",
       "    </tr>\n",
       "    <tr>\n",
       "      <th>97</th>\n",
       "      <td>Narco</td>\n",
       "      <td>Blasterjaxx &amp; Timmy Trumpet</td>\n",
       "      <td>2022</td>\n",
       "    </tr>\n",
       "    <tr>\n",
       "      <th>98</th>\n",
       "      <td>Half Of Me (feat. Riley Green)</td>\n",
       "      <td>Thomas Rhett</td>\n",
       "      <td>2022</td>\n",
       "    </tr>\n",
       "    <tr>\n",
       "      <th>99</th>\n",
       "      <td>Bedroom Singer</td>\n",
       "      <td>J.Fla</td>\n",
       "      <td>2022</td>\n",
       "    </tr>\n",
       "  </tbody>\n",
       "</table>\n",
       "<p>100 rows × 3 columns</p>\n",
       "</div>"
      ],
      "text/plain": [
       "                              song                                    artist  \\\n",
       "0                           Unholy                    Sam Smith & Kim Petras   \n",
       "1                 Eagle (feat. KB)                    Transformation Worship   \n",
       "2                  I'm Good (Blue)                 David Guetta & Bebe Rexha   \n",
       "3                wait in the truck                     HARDY & Lainey Wilson   \n",
       "4                       Everywhere                             Fleetwood Mac   \n",
       "..                             ...                                       ...   \n",
       "95                   Havana (Live)                            Camila Cabello   \n",
       "96                  Lady Marmalade  Christina Aguilera, Lil' Kim, Mýa & P!nk   \n",
       "97                           Narco               Blasterjaxx & Timmy Trumpet   \n",
       "98  Half Of Me (feat. Riley Green)                              Thomas Rhett   \n",
       "99                  Bedroom Singer                                     J.Fla   \n",
       "\n",
       "    year  \n",
       "0   2022  \n",
       "1   2022  \n",
       "2   2022  \n",
       "3   2022  \n",
       "4   2022  \n",
       "..   ...  \n",
       "95  2022  \n",
       "96  2022  \n",
       "97  2022  \n",
       "98  2022  \n",
       "99  2022  \n",
       "\n",
       "[100 rows x 3 columns]"
      ]
     },
     "execution_count": 24,
     "metadata": {},
     "output_type": "execute_result"
    }
   ],
   "source": [
    "hot_songs[\"year\"]=\"2022\"\n",
    "hot_songs"
   ]
  },
  {
   "cell_type": "code",
   "execution_count": 25,
   "id": "68612eb4",
   "metadata": {},
   "outputs": [
    {
     "data": {
      "text/html": [
       "<div>\n",
       "<style scoped>\n",
       "    .dataframe tbody tr th:only-of-type {\n",
       "        vertical-align: middle;\n",
       "    }\n",
       "\n",
       "    .dataframe tbody tr th {\n",
       "        vertical-align: top;\n",
       "    }\n",
       "\n",
       "    .dataframe thead th {\n",
       "        text-align: right;\n",
       "    }\n",
       "</style>\n",
       "<table border=\"1\" class=\"dataframe\">\n",
       "  <thead>\n",
       "    <tr style=\"text-align: right;\">\n",
       "      <th></th>\n",
       "      <th>song</th>\n",
       "      <th>artist</th>\n",
       "      <th>year</th>\n",
       "    </tr>\n",
       "  </thead>\n",
       "  <tbody>\n",
       "    <tr>\n",
       "      <th>0</th>\n",
       "      <td>unholy</td>\n",
       "      <td>sam smith &amp; kim petras</td>\n",
       "      <td>2022</td>\n",
       "    </tr>\n",
       "    <tr>\n",
       "      <th>1</th>\n",
       "      <td>eagle (feat. kb)</td>\n",
       "      <td>transformation worship</td>\n",
       "      <td>2022</td>\n",
       "    </tr>\n",
       "    <tr>\n",
       "      <th>2</th>\n",
       "      <td>i'm good (blue)</td>\n",
       "      <td>david guetta &amp; bebe rexha</td>\n",
       "      <td>2022</td>\n",
       "    </tr>\n",
       "    <tr>\n",
       "      <th>3</th>\n",
       "      <td>wait in the truck</td>\n",
       "      <td>hardy &amp; lainey wilson</td>\n",
       "      <td>2022</td>\n",
       "    </tr>\n",
       "    <tr>\n",
       "      <th>4</th>\n",
       "      <td>everywhere</td>\n",
       "      <td>fleetwood mac</td>\n",
       "      <td>2022</td>\n",
       "    </tr>\n",
       "    <tr>\n",
       "      <th>...</th>\n",
       "      <td>...</td>\n",
       "      <td>...</td>\n",
       "      <td>...</td>\n",
       "    </tr>\n",
       "    <tr>\n",
       "      <th>5192</th>\n",
       "      <td>he's gonna step on you again</td>\n",
       "      <td>john kongos</td>\n",
       "      <td>1971</td>\n",
       "    </tr>\n",
       "    <tr>\n",
       "      <th>5193</th>\n",
       "      <td>wild world</td>\n",
       "      <td>cat stevens</td>\n",
       "      <td>1971</td>\n",
       "    </tr>\n",
       "    <tr>\n",
       "      <th>5194</th>\n",
       "      <td>love her madly</td>\n",
       "      <td>the doors</td>\n",
       "      <td>1971</td>\n",
       "    </tr>\n",
       "    <tr>\n",
       "      <th>5195</th>\n",
       "      <td>amazing grace</td>\n",
       "      <td>judy collins</td>\n",
       "      <td>1971</td>\n",
       "    </tr>\n",
       "    <tr>\n",
       "      <th>5196</th>\n",
       "      <td>peace train</td>\n",
       "      <td>cat stevens</td>\n",
       "      <td>1971</td>\n",
       "    </tr>\n",
       "  </tbody>\n",
       "</table>\n",
       "<p>5197 rows × 3 columns</p>\n",
       "</div>"
      ],
      "text/plain": [
       "                              song                     artist  year\n",
       "0                           unholy     sam smith & kim petras  2022\n",
       "1                 eagle (feat. kb)     transformation worship  2022\n",
       "2                  i'm good (blue)  david guetta & bebe rexha  2022\n",
       "3                wait in the truck      hardy & lainey wilson  2022\n",
       "4                       everywhere              fleetwood mac  2022\n",
       "...                            ...                        ...   ...\n",
       "5192  he's gonna step on you again                john kongos  1971\n",
       "5193                    wild world                cat stevens  1971\n",
       "5194                love her madly                  the doors  1971\n",
       "5195                 amazing grace               judy collins  1971\n",
       "5196                   peace train                cat stevens  1971\n",
       "\n",
       "[5197 rows x 3 columns]"
      ]
     },
     "execution_count": 25,
     "metadata": {},
     "output_type": "execute_result"
    }
   ],
   "source": [
    "hot_top_songs = pd.concat([hot_songs, songs_df], axis=0).reset_index(drop=True)\n",
    "\n",
    "hot_top_songs['song'] = hot_top_songs['song'].str.lower()\n",
    "hot_top_songs['artist'] = hot_top_songs['artist'].str.lower()\n",
    "hot_top_songs\n",
    "\n",
    "#I think 5000 songs are enough for now :)"
   ]
  },
  {
   "cell_type": "markdown",
   "id": "8e82feaf",
   "metadata": {},
   "source": [
    "### Starting the Song Recommender"
   ]
  },
  {
   "cell_type": "code",
   "execution_count": 46,
   "id": "73d7f63a",
   "metadata": {},
   "outputs": [],
   "source": [
    "def song_recommender():\n",
    "    user_song = str(input('Please enter the name of a song you like\\n')).lower()\n",
    "    if user_song in hot_top_songs['song'].tolist():\n",
    "        i = random.randint(0,len(hot_top_songs))\n",
    "        print('You may also like',hot_top_songs['song'][i].title(), \"by\",hot_top_songs['artist'][i].title())\n",
    "    else:\n",
    "        print('There is no song recommendation for you now. Please try again later')"
   ]
  },
  {
   "cell_type": "code",
   "execution_count": 48,
   "id": "e6b3e0a4",
   "metadata": {},
   "outputs": [
    {
     "name": "stdout",
     "output_type": "stream",
     "text": [
      "Please enter the name of a song you like\n",
      "Unholy\n",
      "You may also like Always by Atlantic Starr\n"
     ]
    }
   ],
   "source": [
    "song_recommender()"
   ]
  },
  {
   "cell_type": "code",
   "execution_count": 49,
   "id": "d646f282",
   "metadata": {},
   "outputs": [
    {
     "name": "stdout",
     "output_type": "stream",
     "text": [
      "Please enter the name of a song you like\n",
      "Hello\n",
      "You may also like Bad And Boujee by Migos Featuring Lil Uzi Vert\n"
     ]
    }
   ],
   "source": [
    "song_recommender()"
   ]
  },
  {
   "cell_type": "code",
   "execution_count": 50,
   "id": "04bd9b37",
   "metadata": {},
   "outputs": [
    {
     "name": "stdout",
     "output_type": "stream",
     "text": [
      "Please enter the name of a song you like\n",
      "song not in the list\n",
      "There is no song recommendation for you now. Please try again later\n"
     ]
    }
   ],
   "source": [
    "song_recommender()"
   ]
  }
 ],
 "metadata": {
  "kernelspec": {
   "display_name": "Python 3 (ipykernel)",
   "language": "python",
   "name": "python3"
  },
  "language_info": {
   "codemirror_mode": {
    "name": "ipython",
    "version": 3
   },
   "file_extension": ".py",
   "mimetype": "text/x-python",
   "name": "python",
   "nbconvert_exporter": "python",
   "pygments_lexer": "ipython3",
   "version": "3.9.12"
  }
 },
 "nbformat": 4,
 "nbformat_minor": 5
}
